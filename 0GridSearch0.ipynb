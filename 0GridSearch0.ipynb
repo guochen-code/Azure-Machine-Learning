{
 "cells": [
  {
   "cell_type": "code",
   "execution_count": 57,
   "metadata": {},
   "outputs": [],
   "source": [
    "import numpy as np\n",
    "import random"
   ]
  },
  {
   "cell_type": "code",
   "execution_count": 48,
   "metadata": {},
   "outputs": [],
   "source": [
    "def KRR_function(X,y,z):\n",
    "    return (X-3)**2+(y-1)**2+z**2"
   ]
  },
  {
   "cell_type": "code",
   "execution_count": 53,
   "metadata": {},
   "outputs": [],
   "source": [
    "def create_hyperparams_grid(X,y,z):\n",
    "    graph_x = []\n",
    "    graph_y = []\n",
    "    graph_z = []\n",
    "    graph_result=[]\n",
    "    for alpha_value in X:\n",
    "        graph_x_row = []\n",
    "        graph_y_row = []\n",
    "        graph_z_row = []\n",
    "        graph_result_row = []\n",
    "        for gamma_value in y:\n",
    "            for beta_value in z:\n",
    "                rmse = KRR_function(alpha_value,gamma_value,beta_value)\n",
    "                graph_x_row.append(alpha_value)\n",
    "                graph_y_row.append(gamma_value)\n",
    "                graph_z_row.append(beta_value)\n",
    "                graph_result_row.append(rmse)\n",
    "            graph_x.append(graph_x_row)\n",
    "            graph_y.append(graph_y_row)\n",
    "            graph_z.append(graph_z_row)\n",
    "            graph_result.append(graph_result_row)\n",
    "    graph_x=np.array(graph_x)\n",
    "    graph_y=np.array(graph_y)\n",
    "    graph_z=np.array(graph_z)\n",
    "    graph_result=np.array(graph_result)\n",
    "    min_result = np.min(graph_result)\n",
    "    pos_min_result = np.argwhere(graph_result == np.min(graph_result))[0]\n",
    "    print('Minimum RMSE: %.4f' %(min_result))\n",
    "    print('Optimum alpha: %f' %(graph_x[pos_min_result[0],pos_min_result[1]]))\n",
    "    print('Optimum gamma: %f' %(graph_y[pos_min_result[0],pos_min_result[1]]))\n",
    "    print('Optimum beta: %f' %(graph_z[pos_min_result[0],pos_min_result[1]]))\n",
    "    return graph_x,graph_y,graph_z,graph_result"
   ]
  },
  {
   "cell_type": "code",
   "execution_count": 55,
   "metadata": {},
   "outputs": [],
   "source": [
    "x1=np.arange(-20,20,1)\n",
    "x2=np.arange(-10,10,1)\n",
    "x3=np.arange(-10,10,1)"
   ]
  },
  {
   "cell_type": "code",
   "execution_count": 56,
   "metadata": {},
   "outputs": [
    {
     "name": "stdout",
     "output_type": "stream",
     "text": [
      "Minimum RMSE: 0.0000\n",
      "Optimum alpha: 3.000000\n",
      "Optimum gamma: 1.000000\n",
      "Optimum beta: 0.000000\n"
     ]
    },
    {
     "data": {
      "text/plain": [
       "(array([[-20, -20, -20, ..., -20, -20, -20],\n",
       "        [-20, -20, -20, ..., -20, -20, -20],\n",
       "        [-20, -20, -20, ..., -20, -20, -20],\n",
       "        ...,\n",
       "        [ 19,  19,  19, ...,  19,  19,  19],\n",
       "        [ 19,  19,  19, ...,  19,  19,  19],\n",
       "        [ 19,  19,  19, ...,  19,  19,  19]]),\n",
       " array([[-10, -10, -10, ...,   9,   9,   9],\n",
       "        [-10, -10, -10, ...,   9,   9,   9],\n",
       "        [-10, -10, -10, ...,   9,   9,   9],\n",
       "        ...,\n",
       "        [-10, -10, -10, ...,   9,   9,   9],\n",
       "        [-10, -10, -10, ...,   9,   9,   9],\n",
       "        [-10, -10, -10, ...,   9,   9,   9]]),\n",
       " array([[-10,  -9,  -8, ...,   7,   8,   9],\n",
       "        [-10,  -9,  -8, ...,   7,   8,   9],\n",
       "        [-10,  -9,  -8, ...,   7,   8,   9],\n",
       "        ...,\n",
       "        [-10,  -9,  -8, ...,   7,   8,   9],\n",
       "        [-10,  -9,  -8, ...,   7,   8,   9],\n",
       "        [-10,  -9,  -8, ...,   7,   8,   9]]),\n",
       " array([[750, 731, 714, ..., 642, 657, 674],\n",
       "        [750, 731, 714, ..., 642, 657, 674],\n",
       "        [750, 731, 714, ..., 642, 657, 674],\n",
       "        ...,\n",
       "        [477, 458, 441, ..., 369, 384, 401],\n",
       "        [477, 458, 441, ..., 369, 384, 401],\n",
       "        [477, 458, 441, ..., 369, 384, 401]]))"
      ]
     },
     "execution_count": 56,
     "metadata": {},
     "output_type": "execute_result"
    }
   ],
   "source": [
    "create_hyperparams_grid(x1,x2,x3)"
   ]
  },
  {
   "cell_type": "code",
   "execution_count": null,
   "metadata": {},
   "outputs": [],
   "source": []
  }
 ],
 "metadata": {
  "kernelspec": {
   "display_name": "Python 3",
   "language": "python",
   "name": "python3"
  },
  "language_info": {
   "codemirror_mode": {
    "name": "ipython",
    "version": 3
   },
   "file_extension": ".py",
   "mimetype": "text/x-python",
   "name": "python",
   "nbconvert_exporter": "python",
   "pygments_lexer": "ipython3",
   "version": "3.7.6"
  }
 },
 "nbformat": 4,
 "nbformat_minor": 4
}
